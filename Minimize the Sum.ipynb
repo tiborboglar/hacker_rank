{
 "cells": [
  {
   "cell_type": "markdown",
   "metadata": {},
   "source": [
    "$$\n",
    "\\qquad \\text{minimize}\n",
    "\\sum_{i=2}^n |a_i - a_{i-1}|\n",
    "$$\n",
    "___"
   ]
  },
  {
   "cell_type": "code",
   "execution_count": 8,
   "metadata": {},
   "outputs": [],
   "source": [
    "l = [1,2,6,1,2]\n",
    "r = [3,5,8,2,3]"
   ]
  },
  {
   "cell_type": "markdown",
   "metadata": {},
   "source": [
    "Pseudocódigo:\n",
    "\n",
    "Queremos verificar se há interseção entre $[l_i, r_i]$ e $[l_{i+1}, r_{i+1}]$:\n",
    "* Se sim, guardamos o intervalo de valores que se interceptam.\n",
    "\n",
    "* Se não, verificamos se o novo intervalo está acima ou abaixo do último intervalo"
   ]
  },
  {
   "cell_type": "code",
   "execution_count": 7,
   "metadata": {},
   "outputs": [],
   "source": [
    "n = len(l)\n",
    "a = l[0]\n",
    "b = r[0]\n",
    "\n",
    "ans = 0\n",
    "\n",
    "for i in range(1, n):\n",
    "    c = l[i]\n",
    "    d = r[i]\n",
    "    \n",
    "    if (a > d): # certo!\n",
    "        ans += a - d\n",
    "        a = d\n",
    "        b = d\n",
    "    \n",
    "    elif (b < c): # certo!\n",
    "        ans += c - b\n",
    "        a = c\n",
    "        b = c\n",
    "        \n",
    "    else:\n",
    "        if (b > d):\n",
    "            b=d\n",
    "        if (a < c):\n",
    "            a = c"
   ]
  },
  {
   "cell_type": "code",
   "execution_count": 6,
   "metadata": {},
   "outputs": [
    {
     "data": {
      "text/plain": [
       "7"
      ]
     },
     "execution_count": 6,
     "metadata": {},
     "output_type": "execute_result"
    }
   ],
   "source": [
    "ans"
   ]
  },
  {
   "cell_type": "code",
   "execution_count": null,
   "metadata": {},
   "outputs": [],
   "source": []
  }
 ],
 "metadata": {
  "kernelspec": {
   "display_name": "Python [default]",
   "language": "python",
   "name": "python3"
  },
  "language_info": {
   "codemirror_mode": {
    "name": "ipython",
    "version": 3
   },
   "file_extension": ".py",
   "mimetype": "text/x-python",
   "name": "python",
   "nbconvert_exporter": "python",
   "pygments_lexer": "ipython3",
   "version": "3.5.2"
  }
 },
 "nbformat": 4,
 "nbformat_minor": 2
}
