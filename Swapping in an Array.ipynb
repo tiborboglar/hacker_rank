{
 "cells": [
  {
   "cell_type": "markdown",
   "metadata": {},
   "source": [
    "Given an array \"a\", if it's possible to sort the array by switching only two distinct element in the list, return 1.\n",
    "\n",
    "If the elements are sorted already, return 0.\n",
    "\n",
    "If none of above, return -1."
   ]
  },
  {
   "cell_type": "code",
   "execution_count": 4,
   "metadata": {},
   "outputs": [],
   "source": [
    "def isSorted(a):\n",
    "    is_sorted = True\n",
    "    for i in range(1, len(a)):\n",
    "        if a[i] < a[i-1]:\n",
    "            is_sorted=False\n",
    "            break\n",
    "    return is_sorted\n",
    "\n",
    "def sort(a):\n",
    "    for i in range(0,len(a)):\n",
    "        for j in range(0, len(a)):\n",
    "            if a[i] < a[j]:\n",
    "                temp = a[j]\n",
    "                a[j] = a[i]\n",
    "                a[i] = temp\n",
    "    return a\n",
    "\n",
    "\n",
    "def swapToSort(a):\n",
    "    old_arr = a.copy()\n",
    "\n",
    "    if isSorted(old_arr) == True:\n",
    "        return 0\n",
    "\n",
    "    else:\n",
    "        new_arr = sort(old_arr.copy())\n",
    "        new_arr2 = new_arr.copy()\n",
    "\n",
    "        summ = 0\n",
    "        for i in range(0, len(old_arr)):\n",
    "            if old_arr[i] != new_arr2[i]:\n",
    "                temp = old_arr[i]\n",
    "                old_arr[i] = new_arr2[i]\n",
    "                new_arr2[i] = temp\n",
    "                summ+=1\n",
    "\n",
    "        if summ == 2 and old_arr == new_arr:\n",
    "            return 1\n",
    "        else:\n",
    "            return -1"
   ]
  },
  {
   "cell_type": "code",
   "execution_count": 5,
   "metadata": {},
   "outputs": [
    {
     "data": {
      "text/plain": [
       "-1"
      ]
     },
     "execution_count": 5,
     "metadata": {},
     "output_type": "execute_result"
    }
   ],
   "source": [
    "swapToSort([4,3,2,1])"
   ]
  },
  {
   "cell_type": "code",
   "execution_count": 8,
   "metadata": {},
   "outputs": [
    {
     "data": {
      "text/plain": [
       "0"
      ]
     },
     "execution_count": 8,
     "metadata": {},
     "output_type": "execute_result"
    }
   ],
   "source": [
    "swapToSort([1,2,3,4,5])"
   ]
  },
  {
   "cell_type": "code",
   "execution_count": 7,
   "metadata": {},
   "outputs": [
    {
     "data": {
      "text/plain": [
       "1"
      ]
     },
     "execution_count": 7,
     "metadata": {},
     "output_type": "execute_result"
    }
   ],
   "source": [
    "swapToSort([1,2,4,3])"
   ]
  }
 ],
 "metadata": {
  "kernelspec": {
   "display_name": "Python [default]",
   "language": "python",
   "name": "python3"
  },
  "language_info": {
   "codemirror_mode": {
    "name": "ipython",
    "version": 3
   },
   "file_extension": ".py",
   "mimetype": "text/x-python",
   "name": "python",
   "nbconvert_exporter": "python",
   "pygments_lexer": "ipython3",
   "version": "3.5.2"
  }
 },
 "nbformat": 4,
 "nbformat_minor": 2
}
