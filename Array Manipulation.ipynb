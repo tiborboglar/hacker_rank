{
 "cells": [
  {
   "cell_type": "code",
   "execution_count": 424,
   "metadata": {},
   "outputs": [
    {
     "data": {
      "text/plain": [
       "200"
      ]
     },
     "execution_count": 424,
     "metadata": {},
     "output_type": "execute_result"
    }
   ],
   "source": [
    "queries = [[1,2,100],[2,5,100],[3,4,100]]\n",
    "n = 5\n",
    "\n",
    "def arrayManipulation(n, queries):\n",
    "    '''\n",
    "    this solution won't work properly, because it's a brute force solution\n",
    "    '''\n",
    "    max_val = 0\n",
    "    for i in range(n):\n",
    "        sumation = 0\n",
    "        for j in queries:\n",
    "            if i >= j[0]-1 and i <= j[1]-1:\n",
    "                sumation+=j[2]\n",
    "        if sumation > max_val:\n",
    "            max_val = sumation\n",
    "    return max_val\n",
    "\n",
    "arrayManipulation(n, queries)"
   ]
  },
  {
   "cell_type": "markdown",
   "metadata": {},
   "source": [
    "An implementation that is better for this problem is using a difference array, which can be shown with an example:\n",
    "\n",
    "say we have an initial array: \n",
    "\n",
    "n = 5, queries = [[1,2,1], [2,5,1]]\n",
    "___\n",
    "\n",
    "We start off by creating,\n",
    "\n",
    "diffArr = [0,0,0,0,0]\n",
    "\n",
    "* Our objective is to say \"how large\" is the element diffArr[i] is from the element diffArr[i+1], in this case they're all zeroes.\n",
    "___\n",
    "* Query 1: [1,2,1]\n",
    "\n",
    "diffArr = [1,0,-1,0,0] this translates to: diffArr[1] is 0 greater than diffArr[0], diffArr[2] is -1 greater than diffArr[1] and so on.\n",
    "\n",
    "this will be translated to: [1,1,0,0,0]"
   ]
  },
  {
   "cell_type": "code",
   "execution_count": 518,
   "metadata": {},
   "outputs": [
    {
     "data": {
      "text/plain": [
       "200"
      ]
     },
     "execution_count": 518,
     "metadata": {},
     "output_type": "execute_result"
    }
   ],
   "source": [
    "queries = [[1,2,100],[2,5,100],[3,4,100]]\n",
    "n = 5\n",
    "\n",
    "\n",
    "def arrayManipulation(n, queries):\n",
    "    '''\n",
    "    this solution is the best one in terms of complexity, since it's O(n) \n",
    "    '''\n",
    "    diffArr = [0]*n\n",
    "    for i in queries:\n",
    "        diffArr[i[0]-1] += i[2]\n",
    "        if i[1] < n:\n",
    "            diffArr[i[1]] -= i[2]\n",
    "\n",
    "    maximum = 0\n",
    "    mysum = 0\n",
    "\n",
    "    for i in range(n):\n",
    "        mysum += diffArr[i]\n",
    "        if mysum > maximum:\n",
    "            maximum = mysum\n",
    "    return maximum\n",
    "\n",
    "arrayManipulation(n, queries)"
   ]
  },
  {
   "cell_type": "code",
   "execution_count": 511,
   "metadata": {},
   "outputs": [
    {
     "data": {
      "text/plain": [
       "[100, 100, 0, 0, -100]"
      ]
     },
     "execution_count": 511,
     "metadata": {},
     "output_type": "execute_result"
    }
   ],
   "source": [
    "diffArr"
   ]
  },
  {
   "cell_type": "code",
   "execution_count": null,
   "metadata": {},
   "outputs": [],
   "source": []
  }
 ],
 "metadata": {
  "kernelspec": {
   "display_name": "Python [default]",
   "language": "python",
   "name": "python3"
  },
  "language_info": {
   "codemirror_mode": {
    "name": "ipython",
    "version": 3
   },
   "file_extension": ".py",
   "mimetype": "text/x-python",
   "name": "python",
   "nbconvert_exporter": "python",
   "pygments_lexer": "ipython3",
   "version": "3.5.2"
  }
 },
 "nbformat": 4,
 "nbformat_minor": 2
}
